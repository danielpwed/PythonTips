{
 "cells": [
  {
   "cell_type": "code",
   "execution_count": 1,
   "metadata": {},
   "outputs": [],
   "source": [
    "import pandas as pd\n"
   ]
  },
  {
   "cell_type": "code",
   "execution_count": 2,
   "metadata": {},
   "outputs": [],
   "source": [
    "transacoes = pd.read_csv(\"Transacoes.csv\",sep=\";\")\n",
    "contratos = pd.read_csv(\"Contratos.csv\",sep=\";\")"
   ]
  },
  {
   "cell_type": "code",
   "execution_count": 3,
   "metadata": {},
   "outputs": [],
   "source": [
    "transacoes = transacoes.fillna(0)"
   ]
  },
  {
   "cell_type": "code",
   "execution_count": 4,
   "metadata": {},
   "outputs": [],
   "source": [
    "contratos = contratos[(contratos.is_active == True)] "
   ]
  },
  {
   "cell_type": "code",
   "execution_count": 5,
   "metadata": {},
   "outputs": [],
   "source": [
    "def calc_val(valor, desconto, percentagem):\n",
    "    return float((valor - (valor * (desconto/100))) * (percentagem/100))"
   ]
  },
  {
   "cell_type": "code",
   "execution_count": 29,
   "metadata": {},
   "outputs": [
    {
     "name": "stdout",
     "output_type": "stream",
     "text": [
      "845.4110000000001\n"
     ]
    }
   ],
   "source": [
    "sum_values = 0\n",
    "for index, row in transacoes.iterrows():\n",
    "    try:\n",
    "        sum_values = sum_values + calc_val(row.total_amount, row.discount_percentage, contratos[contratos.client_id == int(row.client_id)]['percentage'][:])\n",
    "    except:\n",
    "        sum_values = sum_values + 0\n",
    "    \n",
    "print(sum_values)    "
   ]
  },
  {
   "cell_type": "code",
   "execution_count": null,
   "metadata": {},
   "outputs": [],
   "source": []
  }
 ],
 "metadata": {
  "kernelspec": {
   "display_name": "Python 3",
   "language": "python",
   "name": "python3"
  },
  "language_info": {
   "codemirror_mode": {
    "name": "ipython",
    "version": 3
   },
   "file_extension": ".py",
   "mimetype": "text/x-python",
   "name": "python",
   "nbconvert_exporter": "python",
   "pygments_lexer": "ipython3",
   "version": "3.7.5"
  }
 },
 "nbformat": 4,
 "nbformat_minor": 2
}
